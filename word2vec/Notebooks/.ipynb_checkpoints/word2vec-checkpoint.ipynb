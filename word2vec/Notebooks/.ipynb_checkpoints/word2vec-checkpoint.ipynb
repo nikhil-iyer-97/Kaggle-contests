{
 "cells": [
  {
   "cell_type": "code",
   "execution_count": 4,
   "metadata": {},
   "outputs": [],
   "source": [
    "import pandas as pd\n",
    "\n",
    "train = pd.read_csv(\"../Dataset/labeledTrainData.tsv\", header=0, delimiter='\\t', quoting = 3)\n",
    "test = pd.read_csv( \"../Dataset/testData.tsv\", header=0, delimiter=\"\\t\", quoting=3 )\n",
    "unlabeled_train = pd.read_csv( \"../Dataset/unlabeledTrainData.tsv\", header=0, delimiter=\"\\t\", quoting=3)\n",
    "\n"
   ]
  },
  {
   "cell_type": "code",
   "execution_count": 2,
   "metadata": {},
   "outputs": [
    {
     "name": "stdout",
     "output_type": "stream",
     "text": [
      "Read 25000 labeled train reviews, 25000 labeled test reviews,and 50000 unlabeled reviews\n",
      "\n"
     ]
    }
   ],
   "source": [
    "print(\"Read %d labeled train reviews, %d labeled test reviews,and %d unlabeled reviews\\n\" % (train[\"review\"].size,  \n",
    " test[\"review\"].size, unlabeled_train[\"review\"].size))"
   ]
  },
  {
   "cell_type": "code",
   "execution_count": 3,
   "metadata": {},
   "outputs": [],
   "source": [
    "from bs4 import BeautifulSoup\n",
    "import re\n",
    "from nltk.corpus import stopwords"
   ]
  },
  {
   "cell_type": "code",
   "execution_count": 4,
   "metadata": {},
   "outputs": [],
   "source": [
    "def review_transform(review,stopwords_use = False):\n",
    "    review_text = BeautifulSoup(review).get_text()\n",
    "    review_text = re.sub(\"[^a-zA-Z]\",\" \", review_text)\n",
    "    words = review_text.lower().split()\n",
    "    \n",
    "    if stopwords_use:\n",
    "        stops = set(stopwords.words(\"english\"))\n",
    "        words = [w for w in words if not w in stops]\n",
    "    \n",
    "    return words"
   ]
  },
  {
   "cell_type": "code",
   "execution_count": 5,
   "metadata": {},
   "outputs": [],
   "source": [
    "import nltk.data\n",
    "tokenizer = nltk.data.load('tokenizers/punkt/english.pickle')"
   ]
  },
  {
   "cell_type": "code",
   "execution_count": 6,
   "metadata": {},
   "outputs": [],
   "source": [
    "def review_sentences(review, tokenizer, stopwords_use = False):\n",
    "    raw_sents = tokenizer.tokenize(review.strip())\n",
    "    sentences = []\n",
    "    for raw_sent in raw_sents:\n",
    "        if len(raw_sent)>0:\n",
    "            sentences.append(review_transform(raw_sent,stopwords_use))\n",
    "        \n",
    "    return sentences"
   ]
  },
  {
   "cell_type": "code",
   "execution_count": 7,
   "metadata": {},
   "outputs": [
    {
     "name": "stdout",
     "output_type": "stream",
     "text": [
      "Parsing reviews from training set\n"
     ]
    },
    {
     "name": "stderr",
     "output_type": "stream",
     "text": [
      "/home/nikhil-pc/environments/my_env/lib/python3.5/site-packages/bs4/__init__.py:181: UserWarning: No parser was explicitly specified, so I'm using the best available HTML parser for this system (\"html5lib\"). This usually isn't a problem, but if you run this code on another system, or in a different virtual environment, it may use a different parser and behave differently.\n",
      "\n",
      "The code that caused this warning is on line 184 of the file /usr/lib/python3.5/runpy.py. To get rid of this warning, change code that looks like this:\n",
      "\n",
      " BeautifulSoup(YOUR_MARKUP})\n",
      "\n",
      "to this:\n",
      "\n",
      " BeautifulSoup(YOUR_MARKUP, \"html5lib\")\n",
      "\n",
      "  markup_type=markup_type))\n",
      "/home/nikhil-pc/environments/my_env/lib/python3.5/site-packages/bs4/__init__.py:219: UserWarning: \"b'.'\" looks like a filename, not markup. You should probably open this file and pass the filehandle into Beautiful Soup.\n",
      "  ' Beautiful Soup.' % markup)\n",
      "/home/nikhil-pc/environments/my_env/lib/python3.5/site-packages/bs4/__init__.py:282: UserWarning: \"http://www.happierabroad.com\"\" looks like a URL. Beautiful Soup is not an HTTP client. You should probably use an HTTP client like requests to get the document behind the URL, and feed that document to Beautiful Soup.\n",
      "  ' that document to Beautiful Soup.' % decoded_markup\n",
      "/home/nikhil-pc/environments/my_env/lib/python3.5/site-packages/bs4/__init__.py:282: UserWarning: \"http://www.archive.org/details/LovefromaStranger\"\" looks like a URL. Beautiful Soup is not an HTTP client. You should probably use an HTTP client like requests to get the document behind the URL, and feed that document to Beautiful Soup.\n",
      "  ' that document to Beautiful Soup.' % decoded_markup\n",
      "/home/nikhil-pc/environments/my_env/lib/python3.5/site-packages/bs4/__init__.py:282: UserWarning: \"http://www.loosechangeguide.com/LooseChangeGuide.html\"\" looks like a URL. Beautiful Soup is not an HTTP client. You should probably use an HTTP client like requests to get the document behind the URL, and feed that document to Beautiful Soup.\n",
      "  ' that document to Beautiful Soup.' % decoded_markup\n",
      "/home/nikhil-pc/environments/my_env/lib/python3.5/site-packages/bs4/__init__.py:282: UserWarning: \"http://www.msnbc.msn.com/id/4972055/site/newsweek/\"\" looks like a URL. Beautiful Soup is not an HTTP client. You should probably use an HTTP client like requests to get the document behind the URL, and feed that document to Beautiful Soup.\n",
      "  ' that document to Beautiful Soup.' % decoded_markup\n",
      "/home/nikhil-pc/environments/my_env/lib/python3.5/site-packages/bs4/__init__.py:219: UserWarning: \"b'..'\" looks like a filename, not markup. You should probably open this file and pass the filehandle into Beautiful Soup.\n",
      "  ' Beautiful Soup.' % markup)\n",
      "/home/nikhil-pc/environments/my_env/lib/python3.5/site-packages/bs4/__init__.py:282: UserWarning: \"http://www.youtube.com/watch?v=a0KSqelmgN8\"\" looks like a URL. Beautiful Soup is not an HTTP client. You should probably use an HTTP client like requests to get the document behind the URL, and feed that document to Beautiful Soup.\n",
      "  ' that document to Beautiful Soup.' % decoded_markup\n",
      "/home/nikhil-pc/environments/my_env/lib/python3.5/site-packages/bs4/__init__.py:282: UserWarning: \"http://jake-weird.blogspot.com/2007/08/beneath.html\"\" looks like a URL. Beautiful Soup is not an HTTP client. You should probably use an HTTP client like requests to get the document behind the URL, and feed that document to Beautiful Soup.\n",
      "  ' that document to Beautiful Soup.' % decoded_markup\n"
     ]
    }
   ],
   "source": [
    "sentences = []\n",
    "print(\"Parsing reviews from training set\")\n",
    "for review in train.review:\n",
    "    sentences += review_sentences(review,tokenizer)\n",
    "    \n",
    "for review in unlabeled_train[\"review\"]:\n",
    "    sentences += review_sentences(review, tokenizer)"
   ]
  },
  {
   "cell_type": "code",
   "execution_count": 8,
   "metadata": {},
   "outputs": [
    {
     "name": "stdout",
     "output_type": "stream",
     "text": [
      "795538\n"
     ]
    }
   ],
   "source": [
    "print(len(sentences))"
   ]
  },
  {
   "cell_type": "code",
   "execution_count": 9,
   "metadata": {},
   "outputs": [
    {
     "name": "stdout",
     "output_type": "stream",
     "text": [
      "['with', 'all', 'this', 'stuff', 'going', 'down', 'at', 'the', 'moment', 'with', 'mj', 'i', 've', 'started', 'listening', 'to', 'his', 'music', 'watching', 'the', 'odd', 'documentary', 'here', 'and', 'there', 'watched', 'the', 'wiz', 'and', 'watched', 'moonwalker', 'again']\n"
     ]
    }
   ],
   "source": [
    "print(sentences[0])"
   ]
  },
  {
   "cell_type": "code",
   "execution_count": 10,
   "metadata": {},
   "outputs": [
    {
     "name": "stdout",
     "output_type": "stream",
     "text": [
      "['maybe', 'i', 'just', 'want', 'to', 'get', 'a', 'certain', 'insight', 'into', 'this', 'guy', 'who', 'i', 'thought', 'was', 'really', 'cool', 'in', 'the', 'eighties', 'just', 'to', 'maybe', 'make', 'up', 'my', 'mind', 'whether', 'he', 'is', 'guilty', 'or', 'innocent']\n"
     ]
    }
   ],
   "source": [
    "print(sentences[1])"
   ]
  },
  {
   "cell_type": "code",
   "execution_count": 11,
   "metadata": {},
   "outputs": [],
   "source": [
    "import logging\n",
    "logging.basicConfig(format='%(asctime)s : %(levelname)s : %(message)s',\\\n",
    "    level=logging.INFO)\n",
    "\n",
    "num_features = 300    # Word vector dimensionality                      \n",
    "min_word_count = 40   # Minimum word count                        \n",
    "num_workers = 4       # Number of threads to run in parallel\n",
    "context = 10          # Context window size                                                                                    \n",
    "downsampling = 1e-3   # Downsample setting for frequent words\n"
   ]
  },
  {
   "cell_type": "code",
   "execution_count": 12,
   "metadata": {},
   "outputs": [
    {
     "name": "stderr",
     "output_type": "stream",
     "text": [
      "2018-01-29 10:24:14,571 : INFO : 'pattern' package not found; tag filters are not available for English\n",
      "2018-01-29 10:24:14,576 : INFO : collecting all words and their counts\n",
      "2018-01-29 10:24:14,577 : INFO : PROGRESS: at sentence #0, processed 0 words, keeping 0 word types\n",
      "2018-01-29 10:24:14,642 : INFO : PROGRESS: at sentence #10000, processed 225803 words, keeping 17776 word types\n",
      "2018-01-29 10:24:14,705 : INFO : PROGRESS: at sentence #20000, processed 451892 words, keeping 24948 word types\n",
      "2018-01-29 10:24:14,765 : INFO : PROGRESS: at sentence #30000, processed 671315 words, keeping 30034 word types\n"
     ]
    },
    {
     "name": "stdout",
     "output_type": "stream",
     "text": [
      "Training model...\n"
     ]
    },
    {
     "name": "stderr",
     "output_type": "stream",
     "text": [
      "2018-01-29 10:24:14,831 : INFO : PROGRESS: at sentence #40000, processed 897815 words, keeping 34348 word types\n",
      "2018-01-29 10:24:14,893 : INFO : PROGRESS: at sentence #50000, processed 1116963 words, keeping 37761 word types\n",
      "2018-01-29 10:24:14,958 : INFO : PROGRESS: at sentence #60000, processed 1338404 words, keeping 40723 word types\n",
      "2018-01-29 10:24:15,021 : INFO : PROGRESS: at sentence #70000, processed 1561580 words, keeping 43333 word types\n",
      "2018-01-29 10:24:15,084 : INFO : PROGRESS: at sentence #80000, processed 1780887 words, keeping 45714 word types\n",
      "2018-01-29 10:24:15,145 : INFO : PROGRESS: at sentence #90000, processed 2004996 words, keeping 48135 word types\n",
      "2018-01-29 10:24:15,210 : INFO : PROGRESS: at sentence #100000, processed 2226967 words, keeping 50207 word types\n",
      "2018-01-29 10:24:15,270 : INFO : PROGRESS: at sentence #110000, processed 2446581 words, keeping 52081 word types\n",
      "2018-01-29 10:24:15,335 : INFO : PROGRESS: at sentence #120000, processed 2668776 words, keeping 54119 word types\n",
      "2018-01-29 10:24:15,402 : INFO : PROGRESS: at sentence #130000, processed 2894304 words, keeping 55847 word types\n",
      "2018-01-29 10:24:15,463 : INFO : PROGRESS: at sentence #140000, processed 3107006 words, keeping 57346 word types\n",
      "2018-01-29 10:24:15,526 : INFO : PROGRESS: at sentence #150000, processed 3332628 words, keeping 59055 word types\n",
      "2018-01-29 10:24:15,592 : INFO : PROGRESS: at sentence #160000, processed 3555316 words, keeping 60617 word types\n",
      "2018-01-29 10:24:15,653 : INFO : PROGRESS: at sentence #170000, processed 3778656 words, keeping 62077 word types\n",
      "2018-01-29 10:24:15,721 : INFO : PROGRESS: at sentence #180000, processed 3999237 words, keeping 63496 word types\n",
      "2018-01-29 10:24:15,782 : INFO : PROGRESS: at sentence #190000, processed 4224450 words, keeping 64794 word types\n",
      "2018-01-29 10:24:15,844 : INFO : PROGRESS: at sentence #200000, processed 4448604 words, keeping 66087 word types\n",
      "2018-01-29 10:24:15,909 : INFO : PROGRESS: at sentence #210000, processed 4669968 words, keeping 67390 word types\n",
      "2018-01-29 10:24:15,974 : INFO : PROGRESS: at sentence #220000, processed 4894969 words, keeping 68697 word types\n",
      "2018-01-29 10:24:16,039 : INFO : PROGRESS: at sentence #230000, processed 5117546 words, keeping 69958 word types\n",
      "2018-01-29 10:24:16,102 : INFO : PROGRESS: at sentence #240000, processed 5345051 words, keeping 71167 word types\n",
      "2018-01-29 10:24:16,168 : INFO : PROGRESS: at sentence #250000, processed 5559166 words, keeping 72351 word types\n",
      "2018-01-29 10:24:16,231 : INFO : PROGRESS: at sentence #260000, processed 5779147 words, keeping 73478 word types\n",
      "2018-01-29 10:24:16,294 : INFO : PROGRESS: at sentence #270000, processed 6000436 words, keeping 74767 word types\n",
      "2018-01-29 10:24:16,361 : INFO : PROGRESS: at sentence #280000, processed 6226315 words, keeping 76369 word types\n",
      "2018-01-29 10:24:16,427 : INFO : PROGRESS: at sentence #290000, processed 6449475 words, keeping 77839 word types\n",
      "2018-01-29 10:24:16,488 : INFO : PROGRESS: at sentence #300000, processed 6674078 words, keeping 79171 word types\n",
      "2018-01-29 10:24:16,550 : INFO : PROGRESS: at sentence #310000, processed 6899392 words, keeping 80480 word types\n",
      "2018-01-29 10:24:16,617 : INFO : PROGRESS: at sentence #320000, processed 7124279 words, keeping 81808 word types\n",
      "2018-01-29 10:24:16,678 : INFO : PROGRESS: at sentence #330000, processed 7346022 words, keeping 83030 word types\n",
      "2018-01-29 10:24:16,742 : INFO : PROGRESS: at sentence #340000, processed 7575534 words, keeping 84280 word types\n",
      "2018-01-29 10:24:16,804 : INFO : PROGRESS: at sentence #350000, processed 7798804 words, keeping 85425 word types\n",
      "2018-01-29 10:24:16,867 : INFO : PROGRESS: at sentence #360000, processed 8019467 words, keeping 86596 word types\n",
      "2018-01-29 10:24:16,936 : INFO : PROGRESS: at sentence #370000, processed 8246659 words, keeping 87708 word types\n",
      "2018-01-29 10:24:17,001 : INFO : PROGRESS: at sentence #380000, processed 8471806 words, keeping 88878 word types\n",
      "2018-01-29 10:24:17,067 : INFO : PROGRESS: at sentence #390000, processed 8701556 words, keeping 89907 word types\n",
      "2018-01-29 10:24:17,131 : INFO : PROGRESS: at sentence #400000, processed 8924505 words, keeping 90916 word types\n",
      "2018-01-29 10:24:17,195 : INFO : PROGRESS: at sentence #410000, processed 9145855 words, keeping 91880 word types\n",
      "2018-01-29 10:24:17,259 : INFO : PROGRESS: at sentence #420000, processed 9366935 words, keeping 92912 word types\n",
      "2018-01-29 10:24:17,325 : INFO : PROGRESS: at sentence #430000, processed 9594472 words, keeping 93932 word types\n",
      "2018-01-29 10:24:17,390 : INFO : PROGRESS: at sentence #440000, processed 9821225 words, keeping 94906 word types\n",
      "2018-01-29 10:24:17,453 : INFO : PROGRESS: at sentence #450000, processed 10044987 words, keeping 96036 word types\n",
      "2018-01-29 10:24:17,522 : INFO : PROGRESS: at sentence #460000, processed 10277747 words, keeping 97088 word types\n",
      "2018-01-29 10:24:17,586 : INFO : PROGRESS: at sentence #470000, processed 10505672 words, keeping 97933 word types\n",
      "2018-01-29 10:24:17,649 : INFO : PROGRESS: at sentence #480000, processed 10726056 words, keeping 98862 word types\n",
      "2018-01-29 10:24:17,717 : INFO : PROGRESS: at sentence #490000, processed 10952800 words, keeping 99871 word types\n",
      "2018-01-29 10:24:17,782 : INFO : PROGRESS: at sentence #500000, processed 11174456 words, keeping 100765 word types\n",
      "2018-01-29 10:24:17,847 : INFO : PROGRESS: at sentence #510000, processed 11399731 words, keeping 101699 word types\n",
      "2018-01-29 10:24:17,914 : INFO : PROGRESS: at sentence #520000, processed 11623082 words, keeping 102598 word types\n",
      "2018-01-29 10:24:17,980 : INFO : PROGRESS: at sentence #530000, processed 11847480 words, keeping 103400 word types\n",
      "2018-01-29 10:24:18,044 : INFO : PROGRESS: at sentence #540000, processed 12072095 words, keeping 104265 word types\n",
      "2018-01-29 10:24:18,110 : INFO : PROGRESS: at sentence #550000, processed 12297646 words, keeping 105133 word types\n",
      "2018-01-29 10:24:18,175 : INFO : PROGRESS: at sentence #560000, processed 12518936 words, keeping 105997 word types\n",
      "2018-01-29 10:24:18,243 : INFO : PROGRESS: at sentence #570000, processed 12748083 words, keeping 106787 word types\n",
      "2018-01-29 10:24:18,308 : INFO : PROGRESS: at sentence #580000, processed 12969579 words, keeping 107665 word types\n",
      "2018-01-29 10:24:18,372 : INFO : PROGRESS: at sentence #590000, processed 13195104 words, keeping 108501 word types\n",
      "2018-01-29 10:24:18,437 : INFO : PROGRESS: at sentence #600000, processed 13417302 words, keeping 109218 word types\n",
      "2018-01-29 10:24:18,501 : INFO : PROGRESS: at sentence #610000, processed 13638325 words, keeping 110092 word types\n",
      "2018-01-29 10:24:18,566 : INFO : PROGRESS: at sentence #620000, processed 13864650 words, keeping 110837 word types\n",
      "2018-01-29 10:24:18,634 : INFO : PROGRESS: at sentence #630000, processed 14088936 words, keeping 111610 word types\n",
      "2018-01-29 10:24:18,696 : INFO : PROGRESS: at sentence #640000, processed 14309719 words, keeping 112416 word types\n",
      "2018-01-29 10:24:18,761 : INFO : PROGRESS: at sentence #650000, processed 14535475 words, keeping 113196 word types\n",
      "2018-01-29 10:24:18,829 : INFO : PROGRESS: at sentence #660000, processed 14758265 words, keeping 113945 word types\n",
      "2018-01-29 10:24:18,894 : INFO : PROGRESS: at sentence #670000, processed 14981658 words, keeping 114643 word types\n",
      "2018-01-29 10:24:18,964 : INFO : PROGRESS: at sentence #680000, processed 15206490 words, keeping 115354 word types\n",
      "2018-01-29 10:24:19,034 : INFO : PROGRESS: at sentence #690000, processed 15428683 words, keeping 116131 word types\n",
      "2018-01-29 10:24:19,103 : INFO : PROGRESS: at sentence #700000, processed 15657389 words, keeping 116943 word types\n",
      "2018-01-29 10:24:19,168 : INFO : PROGRESS: at sentence #710000, processed 15880378 words, keeping 117596 word types\n",
      "2018-01-29 10:24:19,231 : INFO : PROGRESS: at sentence #720000, processed 16105665 words, keeping 118221 word types\n",
      "2018-01-29 10:24:19,294 : INFO : PROGRESS: at sentence #730000, processed 16332046 words, keeping 118954 word types\n",
      "2018-01-29 10:24:19,356 : INFO : PROGRESS: at sentence #740000, processed 16553079 words, keeping 119668 word types\n",
      "2018-01-29 10:24:19,418 : INFO : PROGRESS: at sentence #750000, processed 16771406 words, keeping 120295 word types\n"
     ]
    },
    {
     "name": "stderr",
     "output_type": "stream",
     "text": [
      "2018-01-29 10:24:19,484 : INFO : PROGRESS: at sentence #760000, processed 16990810 words, keeping 120930 word types\n",
      "2018-01-29 10:24:19,551 : INFO : PROGRESS: at sentence #770000, processed 17217947 words, keeping 121703 word types\n",
      "2018-01-29 10:24:19,618 : INFO : PROGRESS: at sentence #780000, processed 17448093 words, keeping 122402 word types\n",
      "2018-01-29 10:24:19,683 : INFO : PROGRESS: at sentence #790000, processed 17675169 words, keeping 123066 word types\n",
      "2018-01-29 10:24:19,722 : INFO : collected 123504 word types from a corpus of 17798270 raw words and 795538 sentences\n",
      "2018-01-29 10:24:19,723 : INFO : Loading a fresh vocabulary\n",
      "2018-01-29 10:24:19,833 : INFO : min_count=40 retains 16490 unique words (13% of original 123504, drops 107014)\n",
      "2018-01-29 10:24:19,834 : INFO : min_count=40 leaves 17239125 word corpus (96% of original 17798270, drops 559145)\n",
      "2018-01-29 10:24:19,893 : INFO : deleting the raw counts dictionary of 123504 items\n",
      "2018-01-29 10:24:19,900 : INFO : sample=0.001 downsamples 48 most-common words\n",
      "2018-01-29 10:24:19,901 : INFO : downsampling leaves estimated 12749798 word corpus (74.0% of prior 17239125)\n",
      "2018-01-29 10:24:19,901 : INFO : estimated required memory for 16490 words and 300 dimensions: 47821000 bytes\n",
      "2018-01-29 10:24:19,975 : INFO : resetting layer weights\n",
      "2018-01-29 10:24:20,246 : INFO : training model with 4 workers on 16490 vocabulary and 300 features, using sg=0 hs=0 sample=0.001 negative=5 window=10\n",
      "2018-01-29 10:24:21,279 : INFO : PROGRESS: at 0.73% examples, 462477 words/s, in_qsize 7, out_qsize 0\n",
      "2018-01-29 10:24:22,293 : INFO : PROGRESS: at 1.50% examples, 470603 words/s, in_qsize 7, out_qsize 0\n",
      "2018-01-29 10:24:23,309 : INFO : PROGRESS: at 2.25% examples, 470965 words/s, in_qsize 7, out_qsize 0\n",
      "2018-01-29 10:24:24,323 : INFO : PROGRESS: at 3.05% examples, 476950 words/s, in_qsize 7, out_qsize 0\n",
      "2018-01-29 10:24:25,323 : INFO : PROGRESS: at 3.83% examples, 480260 words/s, in_qsize 6, out_qsize 1\n",
      "2018-01-29 10:24:26,334 : INFO : PROGRESS: at 4.59% examples, 479987 words/s, in_qsize 7, out_qsize 1\n",
      "2018-01-29 10:24:27,328 : INFO : PROGRESS: at 5.37% examples, 482587 words/s, in_qsize 7, out_qsize 0\n",
      "2018-01-29 10:24:28,333 : INFO : PROGRESS: at 6.16% examples, 484439 words/s, in_qsize 7, out_qsize 0\n",
      "2018-01-29 10:24:29,334 : INFO : PROGRESS: at 6.94% examples, 485361 words/s, in_qsize 7, out_qsize 0\n",
      "2018-01-29 10:24:30,337 : INFO : PROGRESS: at 7.69% examples, 484599 words/s, in_qsize 6, out_qsize 1\n",
      "2018-01-29 10:24:31,345 : INFO : PROGRESS: at 8.46% examples, 485083 words/s, in_qsize 7, out_qsize 0\n",
      "2018-01-29 10:24:32,366 : INFO : PROGRESS: at 9.24% examples, 485468 words/s, in_qsize 7, out_qsize 0\n",
      "2018-01-29 10:24:33,395 : INFO : PROGRESS: at 10.02% examples, 485537 words/s, in_qsize 6, out_qsize 1\n",
      "2018-01-29 10:24:34,398 : INFO : PROGRESS: at 10.79% examples, 485510 words/s, in_qsize 8, out_qsize 0\n",
      "2018-01-29 10:24:35,405 : INFO : PROGRESS: at 11.56% examples, 486209 words/s, in_qsize 7, out_qsize 0\n",
      "2018-01-29 10:24:36,412 : INFO : PROGRESS: at 12.33% examples, 486479 words/s, in_qsize 7, out_qsize 0\n",
      "2018-01-29 10:24:37,413 : INFO : PROGRESS: at 13.10% examples, 486855 words/s, in_qsize 7, out_qsize 0\n",
      "2018-01-29 10:24:38,432 : INFO : PROGRESS: at 13.88% examples, 487110 words/s, in_qsize 7, out_qsize 0\n",
      "2018-01-29 10:24:39,438 : INFO : PROGRESS: at 14.67% examples, 487699 words/s, in_qsize 7, out_qsize 0\n",
      "2018-01-29 10:24:40,441 : INFO : PROGRESS: at 15.46% examples, 488623 words/s, in_qsize 7, out_qsize 0\n",
      "2018-01-29 10:24:41,444 : INFO : PROGRESS: at 16.15% examples, 486090 words/s, in_qsize 7, out_qsize 0\n",
      "2018-01-29 10:24:42,445 : INFO : PROGRESS: at 16.79% examples, 482531 words/s, in_qsize 7, out_qsize 0\n",
      "2018-01-29 10:24:43,454 : INFO : PROGRESS: at 17.44% examples, 479443 words/s, in_qsize 7, out_qsize 0\n",
      "2018-01-29 10:24:44,474 : INFO : PROGRESS: at 18.11% examples, 476961 words/s, in_qsize 7, out_qsize 0\n",
      "2018-01-29 10:24:45,477 : INFO : PROGRESS: at 18.77% examples, 474719 words/s, in_qsize 7, out_qsize 0\n",
      "2018-01-29 10:24:46,490 : INFO : PROGRESS: at 19.41% examples, 471923 words/s, in_qsize 7, out_qsize 0\n",
      "2018-01-29 10:24:47,502 : INFO : PROGRESS: at 20.06% examples, 469635 words/s, in_qsize 7, out_qsize 0\n",
      "2018-01-29 10:24:48,524 : INFO : PROGRESS: at 20.72% examples, 467574 words/s, in_qsize 7, out_qsize 0\n",
      "2018-01-29 10:24:49,549 : INFO : PROGRESS: at 21.37% examples, 465340 words/s, in_qsize 5, out_qsize 2\n",
      "2018-01-29 10:24:50,563 : INFO : PROGRESS: at 22.05% examples, 463945 words/s, in_qsize 7, out_qsize 0\n",
      "2018-01-29 10:24:51,573 : INFO : PROGRESS: at 22.70% examples, 462016 words/s, in_qsize 7, out_qsize 0\n",
      "2018-01-29 10:24:52,576 : INFO : PROGRESS: at 23.35% examples, 460288 words/s, in_qsize 7, out_qsize 0\n",
      "2018-01-29 10:24:53,596 : INFO : PROGRESS: at 24.01% examples, 458851 words/s, in_qsize 7, out_qsize 0\n",
      "2018-01-29 10:24:54,607 : INFO : PROGRESS: at 24.67% examples, 457435 words/s, in_qsize 8, out_qsize 1\n",
      "2018-01-29 10:24:55,612 : INFO : PROGRESS: at 25.29% examples, 455754 words/s, in_qsize 7, out_qsize 0\n",
      "2018-01-29 10:24:56,618 : INFO : PROGRESS: at 25.95% examples, 454737 words/s, in_qsize 7, out_qsize 0\n",
      "2018-01-29 10:24:57,625 : INFO : PROGRESS: at 26.61% examples, 453383 words/s, in_qsize 7, out_qsize 0\n",
      "2018-01-29 10:24:58,638 : INFO : PROGRESS: at 27.22% examples, 451641 words/s, in_qsize 6, out_qsize 1\n",
      "2018-01-29 10:24:59,662 : INFO : PROGRESS: at 27.87% examples, 450452 words/s, in_qsize 7, out_qsize 0\n",
      "2018-01-29 10:25:00,673 : INFO : PROGRESS: at 28.53% examples, 449623 words/s, in_qsize 7, out_qsize 0\n",
      "2018-01-29 10:25:01,676 : INFO : PROGRESS: at 29.17% examples, 448575 words/s, in_qsize 7, out_qsize 0\n",
      "2018-01-29 10:25:02,685 : INFO : PROGRESS: at 29.80% examples, 447511 words/s, in_qsize 7, out_qsize 0\n",
      "2018-01-29 10:25:03,708 : INFO : PROGRESS: at 30.48% examples, 446859 words/s, in_qsize 7, out_qsize 0\n",
      "2018-01-29 10:25:04,708 : INFO : PROGRESS: at 31.12% examples, 446138 words/s, in_qsize 7, out_qsize 0\n",
      "2018-01-29 10:25:05,728 : INFO : PROGRESS: at 31.76% examples, 445233 words/s, in_qsize 8, out_qsize 0\n",
      "2018-01-29 10:25:06,745 : INFO : PROGRESS: at 32.42% examples, 444565 words/s, in_qsize 7, out_qsize 0\n",
      "2018-01-29 10:25:07,746 : INFO : PROGRESS: at 33.06% examples, 443774 words/s, in_qsize 7, out_qsize 0\n",
      "2018-01-29 10:25:08,773 : INFO : PROGRESS: at 33.72% examples, 443080 words/s, in_qsize 7, out_qsize 0\n",
      "2018-01-29 10:25:09,779 : INFO : PROGRESS: at 34.35% examples, 442322 words/s, in_qsize 7, out_qsize 0\n",
      "2018-01-29 10:25:10,802 : INFO : PROGRESS: at 35.02% examples, 441715 words/s, in_qsize 7, out_qsize 0\n",
      "2018-01-29 10:25:11,807 : INFO : PROGRESS: at 35.66% examples, 441148 words/s, in_qsize 7, out_qsize 0\n",
      "2018-01-29 10:25:12,812 : INFO : PROGRESS: at 36.32% examples, 440599 words/s, in_qsize 7, out_qsize 0\n",
      "2018-01-29 10:25:13,816 : INFO : PROGRESS: at 36.98% examples, 440216 words/s, in_qsize 7, out_qsize 0\n",
      "2018-01-29 10:25:14,853 : INFO : PROGRESS: at 37.63% examples, 439449 words/s, in_qsize 8, out_qsize 1\n",
      "2018-01-29 10:25:15,862 : INFO : PROGRESS: at 38.29% examples, 439064 words/s, in_qsize 7, out_qsize 0\n",
      "2018-01-29 10:25:16,889 : INFO : PROGRESS: at 38.95% examples, 438550 words/s, in_qsize 7, out_qsize 0\n",
      "2018-01-29 10:25:17,898 : INFO : PROGRESS: at 39.61% examples, 438195 words/s, in_qsize 7, out_qsize 0\n",
      "2018-01-29 10:25:18,929 : INFO : PROGRESS: at 40.28% examples, 437800 words/s, in_qsize 7, out_qsize 0\n",
      "2018-01-29 10:25:19,936 : INFO : PROGRESS: at 40.93% examples, 437369 words/s, in_qsize 7, out_qsize 0\n",
      "2018-01-29 10:25:20,950 : INFO : PROGRESS: at 41.59% examples, 436889 words/s, in_qsize 6, out_qsize 1\n",
      "2018-01-29 10:25:21,950 : INFO : PROGRESS: at 42.23% examples, 436406 words/s, in_qsize 8, out_qsize 0\n",
      "2018-01-29 10:25:22,970 : INFO : PROGRESS: at 42.90% examples, 436048 words/s, in_qsize 7, out_qsize 0\n",
      "2018-01-29 10:25:23,984 : INFO : PROGRESS: at 43.56% examples, 435613 words/s, in_qsize 7, out_qsize 0\n",
      "2018-01-29 10:25:24,995 : INFO : PROGRESS: at 44.21% examples, 435217 words/s, in_qsize 7, out_qsize 0\n",
      "2018-01-29 10:25:25,999 : INFO : PROGRESS: at 44.87% examples, 434889 words/s, in_qsize 7, out_qsize 1\n",
      "2018-01-29 10:25:27,041 : INFO : PROGRESS: at 45.53% examples, 434412 words/s, in_qsize 7, out_qsize 0\n"
     ]
    },
    {
     "name": "stderr",
     "output_type": "stream",
     "text": [
      "2018-01-29 10:25:28,069 : INFO : PROGRESS: at 46.21% examples, 434148 words/s, in_qsize 7, out_qsize 0\n",
      "2018-01-29 10:25:29,072 : INFO : PROGRESS: at 46.86% examples, 433745 words/s, in_qsize 7, out_qsize 0\n",
      "2018-01-29 10:25:30,088 : INFO : PROGRESS: at 47.48% examples, 433161 words/s, in_qsize 7, out_qsize 0\n",
      "2018-01-29 10:25:31,094 : INFO : PROGRESS: at 48.13% examples, 432869 words/s, in_qsize 7, out_qsize 0\n",
      "2018-01-29 10:25:32,098 : INFO : PROGRESS: at 48.76% examples, 432498 words/s, in_qsize 7, out_qsize 0\n",
      "2018-01-29 10:25:33,105 : INFO : PROGRESS: at 49.42% examples, 432309 words/s, in_qsize 7, out_qsize 0\n",
      "2018-01-29 10:25:34,106 : INFO : PROGRESS: at 50.07% examples, 432066 words/s, in_qsize 7, out_qsize 0\n",
      "2018-01-29 10:25:35,112 : INFO : PROGRESS: at 50.72% examples, 431802 words/s, in_qsize 7, out_qsize 0\n",
      "2018-01-29 10:25:36,134 : INFO : PROGRESS: at 51.35% examples, 431352 words/s, in_qsize 5, out_qsize 2\n",
      "2018-01-29 10:25:37,135 : INFO : PROGRESS: at 51.98% examples, 431035 words/s, in_qsize 7, out_qsize 2\n",
      "2018-01-29 10:25:38,138 : INFO : PROGRESS: at 52.63% examples, 430814 words/s, in_qsize 7, out_qsize 0\n",
      "2018-01-29 10:25:39,156 : INFO : PROGRESS: at 53.27% examples, 430422 words/s, in_qsize 8, out_qsize 0\n",
      "2018-01-29 10:25:40,193 : INFO : PROGRESS: at 53.92% examples, 430029 words/s, in_qsize 8, out_qsize 1\n",
      "2018-01-29 10:25:41,196 : INFO : PROGRESS: at 54.57% examples, 429825 words/s, in_qsize 7, out_qsize 0\n",
      "2018-01-29 10:25:42,213 : INFO : PROGRESS: at 55.23% examples, 429641 words/s, in_qsize 7, out_qsize 0\n",
      "2018-01-29 10:25:43,228 : INFO : PROGRESS: at 55.89% examples, 429467 words/s, in_qsize 7, out_qsize 0\n",
      "2018-01-29 10:25:44,247 : INFO : PROGRESS: at 56.54% examples, 429194 words/s, in_qsize 7, out_qsize 0\n",
      "2018-01-29 10:25:45,279 : INFO : PROGRESS: at 57.20% examples, 428947 words/s, in_qsize 7, out_qsize 0\n",
      "2018-01-29 10:25:46,279 : INFO : PROGRESS: at 57.86% examples, 428861 words/s, in_qsize 7, out_qsize 0\n",
      "2018-01-29 10:25:47,287 : INFO : PROGRESS: at 58.49% examples, 428508 words/s, in_qsize 7, out_qsize 0\n",
      "2018-01-29 10:25:48,304 : INFO : PROGRESS: at 59.16% examples, 428342 words/s, in_qsize 7, out_qsize 0\n",
      "2018-01-29 10:25:49,307 : INFO : PROGRESS: at 59.81% examples, 428258 words/s, in_qsize 7, out_qsize 0\n",
      "2018-01-29 10:25:50,309 : INFO : PROGRESS: at 60.45% examples, 428022 words/s, in_qsize 7, out_qsize 0\n",
      "2018-01-29 10:25:51,331 : INFO : PROGRESS: at 61.11% examples, 427844 words/s, in_qsize 7, out_qsize 0\n",
      "2018-01-29 10:25:52,351 : INFO : PROGRESS: at 61.78% examples, 427685 words/s, in_qsize 7, out_qsize 0\n",
      "2018-01-29 10:25:53,361 : INFO : PROGRESS: at 62.45% examples, 427584 words/s, in_qsize 8, out_qsize 0\n",
      "2018-01-29 10:25:54,362 : INFO : PROGRESS: at 63.09% examples, 427373 words/s, in_qsize 6, out_qsize 1\n",
      "2018-01-29 10:25:55,363 : INFO : PROGRESS: at 63.75% examples, 427235 words/s, in_qsize 7, out_qsize 0\n",
      "2018-01-29 10:25:56,370 : INFO : PROGRESS: at 64.41% examples, 427075 words/s, in_qsize 7, out_qsize 0\n",
      "2018-01-29 10:25:57,387 : INFO : PROGRESS: at 65.07% examples, 426947 words/s, in_qsize 7, out_qsize 0\n",
      "2018-01-29 10:25:58,396 : INFO : PROGRESS: at 65.71% examples, 426705 words/s, in_qsize 8, out_qsize 0\n",
      "2018-01-29 10:25:59,409 : INFO : PROGRESS: at 66.38% examples, 426604 words/s, in_qsize 7, out_qsize 0\n",
      "2018-01-29 10:26:00,412 : INFO : PROGRESS: at 67.03% examples, 426463 words/s, in_qsize 6, out_qsize 1\n",
      "2018-01-29 10:26:01,422 : INFO : PROGRESS: at 67.67% examples, 426242 words/s, in_qsize 7, out_qsize 0\n",
      "2018-01-29 10:26:02,438 : INFO : PROGRESS: at 68.32% examples, 426058 words/s, in_qsize 7, out_qsize 0\n",
      "2018-01-29 10:26:03,460 : INFO : PROGRESS: at 68.98% examples, 425930 words/s, in_qsize 7, out_qsize 0\n",
      "2018-01-29 10:26:04,480 : INFO : PROGRESS: at 69.59% examples, 425524 words/s, in_qsize 7, out_qsize 0\n",
      "2018-01-29 10:26:05,495 : INFO : PROGRESS: at 70.25% examples, 425436 words/s, in_qsize 7, out_qsize 0\n",
      "2018-01-29 10:26:06,507 : INFO : PROGRESS: at 70.90% examples, 425284 words/s, in_qsize 7, out_qsize 0\n",
      "2018-01-29 10:26:07,532 : INFO : PROGRESS: at 71.54% examples, 425081 words/s, in_qsize 7, out_qsize 0\n",
      "2018-01-29 10:26:08,543 : INFO : PROGRESS: at 72.18% examples, 424940 words/s, in_qsize 7, out_qsize 0\n",
      "2018-01-29 10:26:09,567 : INFO : PROGRESS: at 72.83% examples, 424759 words/s, in_qsize 8, out_qsize 0\n",
      "2018-01-29 10:26:10,569 : INFO : PROGRESS: at 73.48% examples, 424655 words/s, in_qsize 7, out_qsize 0\n",
      "2018-01-29 10:26:11,584 : INFO : PROGRESS: at 74.12% examples, 424450 words/s, in_qsize 7, out_qsize 0\n",
      "2018-01-29 10:26:12,604 : INFO : PROGRESS: at 74.77% examples, 424290 words/s, in_qsize 7, out_qsize 0\n",
      "2018-01-29 10:26:13,609 : INFO : PROGRESS: at 75.42% examples, 424186 words/s, in_qsize 7, out_qsize 0\n",
      "2018-01-29 10:26:14,610 : INFO : PROGRESS: at 76.07% examples, 424099 words/s, in_qsize 7, out_qsize 0\n",
      "2018-01-29 10:26:15,627 : INFO : PROGRESS: at 76.71% examples, 423890 words/s, in_qsize 7, out_qsize 0\n",
      "2018-01-29 10:26:16,628 : INFO : PROGRESS: at 77.31% examples, 423502 words/s, in_qsize 7, out_qsize 0\n",
      "2018-01-29 10:26:17,638 : INFO : PROGRESS: at 77.80% examples, 422541 words/s, in_qsize 7, out_qsize 0\n",
      "2018-01-29 10:26:18,652 : INFO : PROGRESS: at 78.35% examples, 421946 words/s, in_qsize 7, out_qsize 0\n",
      "2018-01-29 10:26:19,658 : INFO : PROGRESS: at 78.98% examples, 421681 words/s, in_qsize 7, out_qsize 0\n",
      "2018-01-29 10:26:20,660 : INFO : PROGRESS: at 79.62% examples, 421621 words/s, in_qsize 7, out_qsize 0\n",
      "2018-01-29 10:26:21,668 : INFO : PROGRESS: at 80.26% examples, 421478 words/s, in_qsize 7, out_qsize 0\n",
      "2018-01-29 10:26:22,686 : INFO : PROGRESS: at 80.85% examples, 421067 words/s, in_qsize 7, out_qsize 0\n",
      "2018-01-29 10:26:23,695 : INFO : PROGRESS: at 81.53% examples, 421093 words/s, in_qsize 8, out_qsize 0\n",
      "2018-01-29 10:26:24,705 : INFO : PROGRESS: at 82.23% examples, 421242 words/s, in_qsize 7, out_qsize 0\n",
      "2018-01-29 10:26:25,724 : INFO : PROGRESS: at 82.87% examples, 421021 words/s, in_qsize 7, out_qsize 0\n",
      "2018-01-29 10:26:26,732 : INFO : PROGRESS: at 83.57% examples, 421172 words/s, in_qsize 7, out_qsize 0\n",
      "2018-01-29 10:26:27,751 : INFO : PROGRESS: at 84.18% examples, 420829 words/s, in_qsize 7, out_qsize 0\n",
      "2018-01-29 10:26:28,765 : INFO : PROGRESS: at 84.75% examples, 420351 words/s, in_qsize 7, out_qsize 0\n",
      "2018-01-29 10:26:29,776 : INFO : PROGRESS: at 85.24% examples, 419442 words/s, in_qsize 6, out_qsize 1\n",
      "2018-01-29 10:26:30,810 : INFO : PROGRESS: at 85.67% examples, 418257 words/s, in_qsize 6, out_qsize 1\n",
      "2018-01-29 10:26:31,834 : INFO : PROGRESS: at 86.24% examples, 417719 words/s, in_qsize 6, out_qsize 1\n",
      "2018-01-29 10:26:32,835 : INFO : PROGRESS: at 86.76% examples, 416994 words/s, in_qsize 6, out_qsize 1\n",
      "2018-01-29 10:26:33,837 : INFO : PROGRESS: at 87.38% examples, 416861 words/s, in_qsize 7, out_qsize 0\n",
      "2018-01-29 10:26:34,838 : INFO : PROGRESS: at 87.98% examples, 416634 words/s, in_qsize 6, out_qsize 1\n",
      "2018-01-29 10:26:35,853 : INFO : PROGRESS: at 88.57% examples, 416308 words/s, in_qsize 7, out_qsize 0\n",
      "2018-01-29 10:26:36,867 : INFO : PROGRESS: at 89.22% examples, 416253 words/s, in_qsize 8, out_qsize 1\n",
      "2018-01-29 10:26:37,884 : INFO : PROGRESS: at 89.88% examples, 416242 words/s, in_qsize 8, out_qsize 0\n",
      "2018-01-29 10:26:38,889 : INFO : PROGRESS: at 90.52% examples, 416162 words/s, in_qsize 7, out_qsize 0\n",
      "2018-01-29 10:26:39,897 : INFO : PROGRESS: at 91.17% examples, 416131 words/s, in_qsize 7, out_qsize 0\n",
      "2018-01-29 10:26:40,906 : INFO : PROGRESS: at 91.79% examples, 416043 words/s, in_qsize 7, out_qsize 0\n",
      "2018-01-29 10:26:41,929 : INFO : PROGRESS: at 92.44% examples, 415964 words/s, in_qsize 7, out_qsize 0\n",
      "2018-01-29 10:26:42,938 : INFO : PROGRESS: at 93.07% examples, 415828 words/s, in_qsize 6, out_qsize 1\n",
      "2018-01-29 10:26:43,947 : INFO : PROGRESS: at 93.73% examples, 415847 words/s, in_qsize 7, out_qsize 0\n",
      "2018-01-29 10:26:44,949 : INFO : PROGRESS: at 94.38% examples, 415832 words/s, in_qsize 7, out_qsize 0\n",
      "2018-01-29 10:26:45,969 : INFO : PROGRESS: at 95.04% examples, 415817 words/s, in_qsize 7, out_qsize 0\n",
      "2018-01-29 10:26:46,984 : INFO : PROGRESS: at 95.67% examples, 415718 words/s, in_qsize 7, out_qsize 0\n",
      "2018-01-29 10:26:47,998 : INFO : PROGRESS: at 96.34% examples, 415720 words/s, in_qsize 7, out_qsize 0\n"
     ]
    },
    {
     "name": "stderr",
     "output_type": "stream",
     "text": [
      "2018-01-29 10:26:48,999 : INFO : PROGRESS: at 96.98% examples, 415661 words/s, in_qsize 7, out_qsize 0\n",
      "2018-01-29 10:26:50,000 : INFO : PROGRESS: at 97.63% examples, 415653 words/s, in_qsize 7, out_qsize 0\n",
      "2018-01-29 10:26:51,033 : INFO : PROGRESS: at 98.27% examples, 415556 words/s, in_qsize 7, out_qsize 1\n",
      "2018-01-29 10:26:52,042 : INFO : PROGRESS: at 98.94% examples, 415575 words/s, in_qsize 7, out_qsize 0\n",
      "2018-01-29 10:26:53,066 : INFO : PROGRESS: at 99.60% examples, 415553 words/s, in_qsize 7, out_qsize 0\n",
      "2018-01-29 10:26:53,632 : INFO : worker thread finished; awaiting finish of 3 more threads\n",
      "2018-01-29 10:26:53,648 : INFO : worker thread finished; awaiting finish of 2 more threads\n",
      "2018-01-29 10:26:53,657 : INFO : worker thread finished; awaiting finish of 1 more threads\n",
      "2018-01-29 10:26:53,659 : INFO : worker thread finished; awaiting finish of 0 more threads\n",
      "2018-01-29 10:26:53,660 : INFO : training on 88991350 raw words (63750475 effective words) took 153.4s, 415620 effective words/s\n"
     ]
    }
   ],
   "source": [
    "from gensim.models import word2vec\n",
    "print(\"Training model...\")\n",
    "model = word2vec.Word2Vec(sentences, workers=num_workers, \\\n",
    "            size=num_features, min_count = min_word_count, \\\n",
    "            window = context, sample = downsampling)"
   ]
  },
  {
   "cell_type": "code",
   "execution_count": 13,
   "metadata": {},
   "outputs": [
    {
     "name": "stderr",
     "output_type": "stream",
     "text": [
      "2018-01-29 10:26:53,668 : INFO : saving Word2Vec object under 300features_40minwords_10context, separately None\n",
      "2018-01-29 10:26:53,670 : INFO : not storing attribute syn0norm\n",
      "2018-01-29 10:26:53,673 : INFO : not storing attribute cum_table\n",
      "2018-01-29 10:26:54,403 : INFO : saved 300features_40minwords_10context\n"
     ]
    }
   ],
   "source": [
    "model_name = \"300features_40minwords_10context\"\n",
    "model.save(model_name)"
   ]
  },
  {
   "cell_type": "code",
   "execution_count": 14,
   "metadata": {},
   "outputs": [
    {
     "name": "stderr",
     "output_type": "stream",
     "text": [
      "/home/nikhil-pc/environments/my_env/lib/python3.5/site-packages/ipykernel_launcher.py:1: DeprecationWarning: Call to deprecated `doesnt_match` (Method will be removed in 4.0.0, use self.wv.doesnt_match() instead).\n",
      "  \"\"\"Entry point for launching an IPython kernel.\n",
      "2018-01-29 10:26:54,411 : INFO : precomputing L2-norms of word weight vectors\n"
     ]
    },
    {
     "data": {
      "text/plain": [
       "'kitchen'"
      ]
     },
     "execution_count": 14,
     "metadata": {},
     "output_type": "execute_result"
    }
   ],
   "source": [
    "model.doesnt_match(\"man woman child kitchen\".split())"
   ]
  },
  {
   "cell_type": "code",
   "execution_count": 15,
   "metadata": {},
   "outputs": [
    {
     "name": "stderr",
     "output_type": "stream",
     "text": [
      "/home/nikhil-pc/environments/my_env/lib/python3.5/site-packages/ipykernel_launcher.py:1: DeprecationWarning: Call to deprecated `doesnt_match` (Method will be removed in 4.0.0, use self.wv.doesnt_match() instead).\n",
      "  \"\"\"Entry point for launching an IPython kernel.\n"
     ]
    },
    {
     "data": {
      "text/plain": [
       "'berlin'"
      ]
     },
     "execution_count": 15,
     "metadata": {},
     "output_type": "execute_result"
    }
   ],
   "source": [
    "model.doesnt_match(\"france england germany berlin\".split())"
   ]
  },
  {
   "cell_type": "code",
   "execution_count": 16,
   "metadata": {},
   "outputs": [
    {
     "name": "stderr",
     "output_type": "stream",
     "text": [
      "/home/nikhil-pc/environments/my_env/lib/python3.5/site-packages/ipykernel_launcher.py:1: DeprecationWarning: Call to deprecated `doesnt_match` (Method will be removed in 4.0.0, use self.wv.doesnt_match() instead).\n",
      "  \"\"\"Entry point for launching an IPython kernel.\n"
     ]
    },
    {
     "data": {
      "text/plain": [
       "'paris'"
      ]
     },
     "execution_count": 16,
     "metadata": {},
     "output_type": "execute_result"
    }
   ],
   "source": [
    "model.doesnt_match(\"paris berlin london austria\".split())"
   ]
  },
  {
   "cell_type": "code",
   "execution_count": 17,
   "metadata": {},
   "outputs": [
    {
     "name": "stderr",
     "output_type": "stream",
     "text": [
      "/home/nikhil-pc/environments/my_env/lib/python3.5/site-packages/ipykernel_launcher.py:1: DeprecationWarning: Call to deprecated `most_similar` (Method will be removed in 4.0.0, use self.wv.most_similar() instead).\n",
      "  \"\"\"Entry point for launching an IPython kernel.\n"
     ]
    },
    {
     "data": {
      "text/plain": [
       "[('woman', 0.6374553442001343),\n",
       " ('lady', 0.6016129851341248),\n",
       " ('lad', 0.5927566885948181),\n",
       " ('chap', 0.5349265336990356),\n",
       " ('sailor', 0.5316877365112305),\n",
       " ('monk', 0.526505708694458),\n",
       " ('farmer', 0.5158213376998901),\n",
       " ('men', 0.508114218711853),\n",
       " ('person', 0.503777265548706),\n",
       " ('millionaire', 0.5014427304267883)]"
      ]
     },
     "execution_count": 17,
     "metadata": {},
     "output_type": "execute_result"
    }
   ],
   "source": [
    "model.most_similar(\"man\")"
   ]
  },
  {
   "cell_type": "code",
   "execution_count": 18,
   "metadata": {},
   "outputs": [
    {
     "name": "stderr",
     "output_type": "stream",
     "text": [
      "/home/nikhil-pc/environments/my_env/lib/python3.5/site-packages/ipykernel_launcher.py:1: DeprecationWarning: Call to deprecated `most_similar` (Method will be removed in 4.0.0, use self.wv.most_similar() instead).\n",
      "  \"\"\"Entry point for launching an IPython kernel.\n"
     ]
    },
    {
     "data": {
      "text/plain": [
       "[('princess', 0.6792601346969604),\n",
       " ('bride', 0.6165906190872192),\n",
       " ('victoria', 0.6074438095092773),\n",
       " ('maid', 0.6052755117416382),\n",
       " ('goddess', 0.6009936332702637),\n",
       " ('mistress', 0.5874417424201965),\n",
       " ('showgirl', 0.5816864967346191),\n",
       " ('latifah', 0.5781111717224121),\n",
       " ('duchess', 0.5751122236251831),\n",
       " ('belle', 0.5720391273498535)]"
      ]
     },
     "execution_count": 18,
     "metadata": {},
     "output_type": "execute_result"
    }
   ],
   "source": [
    "model.most_similar(\"queen\")"
   ]
  },
  {
   "cell_type": "code",
   "execution_count": 19,
   "metadata": {},
   "outputs": [
    {
     "name": "stderr",
     "output_type": "stream",
     "text": [
      "/home/nikhil-pc/environments/my_env/lib/python3.5/site-packages/ipykernel_launcher.py:1: DeprecationWarning: Call to deprecated `most_similar` (Method will be removed in 4.0.0, use self.wv.most_similar() instead).\n",
      "  \"\"\"Entry point for launching an IPython kernel.\n"
     ]
    },
    {
     "data": {
      "text/plain": [
       "[('terrible', 0.7689473032951355),\n",
       " ('horrible', 0.7341480255126953),\n",
       " ('atrocious', 0.7272075414657593),\n",
       " ('abysmal', 0.7129809856414795),\n",
       " ('dreadful', 0.7042033076286316),\n",
       " ('horrendous', 0.6815782785415649),\n",
       " ('appalling', 0.6742089986801147),\n",
       " ('horrid', 0.667373538017273),\n",
       " ('lousy', 0.6402003169059753),\n",
       " ('crappy', 0.6184966564178467)]"
      ]
     },
     "execution_count": 19,
     "metadata": {},
     "output_type": "execute_result"
    }
   ],
   "source": [
    "model.most_similar(\"awful\")"
   ]
  },
  {
   "cell_type": "code",
   "execution_count": 20,
   "metadata": {},
   "outputs": [],
   "source": [
    "from gensim.models import Word2Vec"
   ]
  },
  {
   "cell_type": "code",
   "execution_count": 21,
   "metadata": {},
   "outputs": [
    {
     "name": "stderr",
     "output_type": "stream",
     "text": [
      "2018-01-29 10:26:56,275 : INFO : loading Word2Vec object from 300features_40minwords_10context\n",
      "2018-01-29 10:26:56,622 : INFO : loading wv recursively from 300features_40minwords_10context.wv.* with mmap=None\n",
      "2018-01-29 10:26:56,623 : INFO : setting ignored attribute syn0norm to None\n",
      "2018-01-29 10:26:56,624 : INFO : setting ignored attribute cum_table to None\n",
      "2018-01-29 10:26:56,625 : INFO : loaded 300features_40minwords_10context\n"
     ]
    }
   ],
   "source": [
    "model = Word2Vec.load(\"300features_40minwords_10context\")"
   ]
  },
  {
   "cell_type": "code",
   "execution_count": 22,
   "metadata": {},
   "outputs": [
    {
     "data": {
      "text/plain": [
       "numpy.ndarray"
      ]
     },
     "execution_count": 22,
     "metadata": {},
     "output_type": "execute_result"
    }
   ],
   "source": [
    "type(model.wv.syn0)"
   ]
  },
  {
   "cell_type": "code",
   "execution_count": 23,
   "metadata": {},
   "outputs": [
    {
     "data": {
      "text/plain": [
       "(16490, 300)"
      ]
     },
     "execution_count": 23,
     "metadata": {},
     "output_type": "execute_result"
    }
   ],
   "source": [
    " model.wv.syn0.shape"
   ]
  },
  {
   "cell_type": "code",
   "execution_count": 24,
   "metadata": {},
   "outputs": [
    {
     "name": "stderr",
     "output_type": "stream",
     "text": [
      "/home/nikhil-pc/environments/my_env/lib/python3.5/site-packages/ipykernel_launcher.py:1: DeprecationWarning: Call to deprecated `__getitem__` (Method will be removed in 4.0.0, use self.wv.__getitem__() instead).\n",
      "  \"\"\"Entry point for launching an IPython kernel.\n"
     ]
    },
    {
     "data": {
      "text/plain": [
       "array([ 0.1424252 ,  0.13339472, -0.0956048 , -0.2120716 , -0.22812591,\n",
       "       -0.18929087, -0.46531802, -0.2590779 ,  0.22530201, -0.14578581,\n",
       "        0.32063365,  0.11694986,  0.70356953,  0.3054287 ,  0.29582313,\n",
       "        0.24074228, -0.15032773,  0.75197256,  0.37029028,  0.0259152 ,\n",
       "        0.01084997,  0.33715805, -0.1854098 ,  0.10471976,  0.3812823 ,\n",
       "        0.04731761, -0.1599441 , -0.08111445, -0.1337907 ,  0.3602975 ,\n",
       "       -0.36442205, -0.0506667 , -0.08879823, -0.20200352, -0.38781732,\n",
       "       -0.1191791 , -0.31647038, -0.14777127, -0.6878279 ,  0.395055  ,\n",
       "       -0.12303211, -0.07291725,  0.00902948,  0.15506452, -0.5431746 ,\n",
       "       -0.2494476 ,  0.25779465,  0.15328504, -0.19268319,  0.25180274,\n",
       "        0.21367492,  0.39850873,  0.24419183, -0.08211639,  0.3810214 ,\n",
       "       -0.03862491, -0.1387556 , -0.07327403,  0.0205368 ,  0.07370561,\n",
       "       -0.3310748 , -0.4598193 , -0.23348439, -0.03363508,  0.35727006,\n",
       "       -0.06332279, -0.3652065 , -0.24505816,  0.04181398,  0.03062091,\n",
       "        0.41759366, -0.30032802,  0.38992557, -0.1351475 , -0.6195707 ,\n",
       "       -0.20261528,  0.12128139, -0.46901006, -0.12917276,  0.08310288,\n",
       "        0.24120153,  0.26851988, -0.1948805 ,  0.01479444, -0.7348028 ,\n",
       "        0.13991103, -0.27931508,  0.09871788, -0.12077632,  0.15861371,\n",
       "       -0.17931002, -0.3430029 , -0.1308048 , -0.28078446, -0.3860293 ,\n",
       "        0.2452561 , -0.05505778,  0.18999732,  0.45268443, -0.27403593,\n",
       "        0.22155648,  0.45366398, -0.0550391 , -0.44614786,  0.19570616,\n",
       "       -0.03278884,  0.19452687, -0.2999777 ,  0.01539993, -0.15080597,\n",
       "       -0.07589985,  0.41605115,  0.24082193, -0.1162692 ,  0.6085835 ,\n",
       "       -0.32546097,  0.24478614, -0.14517651,  0.07506642,  0.6124219 ,\n",
       "       -0.17859681, -0.19573428, -0.05508475, -0.0914619 ,  0.22771439,\n",
       "        0.11841783, -0.26034895,  0.6266768 , -0.3435629 ,  0.23546745,\n",
       "       -0.506535  ,  0.40991768, -0.19917755, -0.11774234,  0.22924528,\n",
       "        0.06305083, -0.58637977, -0.11878808, -0.10984842, -0.14776175,\n",
       "        0.19476391, -0.21846867, -0.4312967 ,  0.09928694,  0.0605057 ,\n",
       "        0.13095784, -0.02699284,  0.02503357, -0.15644997, -0.3478667 ,\n",
       "        0.2137722 , -0.5977658 , -0.01867835,  0.01210397, -0.36726174,\n",
       "       -0.63450617, -0.09830739, -0.05288339, -0.2734329 ,  0.11994478,\n",
       "       -0.12062978, -0.01429077, -0.44167694,  0.31106922,  0.27426714,\n",
       "        0.73150295,  0.20014812,  0.20012434, -0.05998097, -0.14430453,\n",
       "       -0.2995836 ,  0.20511559,  0.36427757,  0.22161302, -0.1535327 ,\n",
       "       -0.33642793,  0.21225576,  0.08063447,  0.12043324,  0.21584155,\n",
       "       -0.01452327,  0.05894017,  0.6568559 ,  0.08233938, -0.15136042,\n",
       "       -0.11360104, -0.01032171, -0.13204889, -0.15451884,  0.10141604,\n",
       "        0.30909732, -0.02924815, -0.32341257, -0.48218915,  0.56284875,\n",
       "       -0.14885482, -0.39104918,  0.37533864,  0.41137663, -0.3968321 ,\n",
       "       -0.03059634, -0.7047888 , -0.33327377, -0.21733886, -0.0793476 ,\n",
       "        0.04869239, -0.6878995 , -0.40394574, -0.126477  , -0.3144435 ,\n",
       "       -0.11030075,  0.05068734,  0.15186429, -0.13353197,  0.05732862,\n",
       "        0.2594379 ,  0.07927964,  0.28893757, -0.05422578,  0.11518751,\n",
       "       -0.02304393, -0.1310398 , -0.00552579,  0.5916448 ,  0.05663961,\n",
       "       -0.11527105,  0.30918604, -0.5138422 ,  0.2674446 , -0.50254196,\n",
       "       -0.50984246,  0.01747628, -0.19993794, -0.24017622, -0.17351358,\n",
       "       -0.01046615,  0.02571031,  0.44305202,  0.08874556,  0.13949707,\n",
       "       -0.04142552,  0.19487396, -0.15990077, -0.32664046, -0.6084136 ,\n",
       "        0.03200701,  0.0771367 , -0.24494801, -0.20507602,  0.32038572,\n",
       "       -0.38057974,  0.24092923, -0.03271606,  0.05692296, -0.30887038,\n",
       "        0.4836676 ,  0.15213461,  0.10079108, -0.36249262,  0.5085938 ,\n",
       "        0.61723816,  0.15280703, -0.1918175 ,  0.41727585, -0.2600914 ,\n",
       "        0.17436287,  0.26432008,  0.25365445,  0.6541545 , -0.18767178,\n",
       "        0.3649757 , -0.33544528,  0.11603221,  0.08423593,  0.72479916,\n",
       "       -0.5930379 , -0.17699963,  0.46772268,  0.01270702, -0.24465254,\n",
       "        0.21383646,  0.2608479 , -0.40307873,  0.05946938,  0.04606146,\n",
       "        0.10841607,  0.2571861 , -0.06559347, -0.10733699,  0.28889546,\n",
       "       -0.45590922,  0.03009326, -0.03606144,  0.45693415,  0.00152744,\n",
       "       -0.07371754, -0.14154212, -0.7603518 ,  0.51539075,  0.00083316],\n",
       "      dtype=float32)"
      ]
     },
     "execution_count": 24,
     "metadata": {},
     "output_type": "execute_result"
    }
   ],
   "source": [
    "model[\"flower\"]"
   ]
  },
  {
   "cell_type": "code",
   "execution_count": 33,
   "metadata": {},
   "outputs": [],
   "source": [
    "import numpy as np\n",
    "\n",
    "def makeFeatureVec(words, model, num_features):\n",
    "    featureVec = np.zeros((num_features,),dtype=\"float32\")\n",
    "    nwords = 0 \n",
    "    index2word_set = set(model.wv.index2word)\n",
    "    \n",
    "    for word in words:\n",
    "        if word in index2word_set: \n",
    "            nwords = nwords + 1\n",
    "            featureVec = np.add(featureVec,model[word])\n",
    "\n",
    "    featureVec = np.divide(featureVec,nwords)\n",
    "    return featureVec\n"
   ]
  },
  {
   "cell_type": "code",
   "execution_count": 27,
   "metadata": {},
   "outputs": [],
   "source": [
    "def getAvgFeatureVecs(reviews, model, num_features):\n",
    "    counter = 0\n",
    "    reviewFeatureVecs = np.zeros((len(reviews),num_features),dtype=\"float32\")\n",
    "\n",
    "    for review in reviews:\n",
    "        if counter%1000 == 0:\n",
    "            print(\"Review %d of %d\" % (counter, len(reviews)))\n",
    "        reviewFeatureVecs[counter] = makeFeatureVec(review, model,num_features)\n",
    "        counter = counter + 1\n",
    "    return reviewFeatureVecs"
   ]
  },
  {
   "cell_type": "code",
   "execution_count": 30,
   "metadata": {},
   "outputs": [
    {
     "name": "stderr",
     "output_type": "stream",
     "text": [
      "/home/nikhil-pc/environments/my_env/lib/python3.5/site-packages/bs4/__init__.py:181: UserWarning: No parser was explicitly specified, so I'm using the best available HTML parser for this system (\"html5lib\"). This usually isn't a problem, but if you run this code on another system, or in a different virtual environment, it may use a different parser and behave differently.\n",
      "\n",
      "The code that caused this warning is on line 184 of the file /usr/lib/python3.5/runpy.py. To get rid of this warning, change code that looks like this:\n",
      "\n",
      " BeautifulSoup(YOUR_MARKUP})\n",
      "\n",
      "to this:\n",
      "\n",
      " BeautifulSoup(YOUR_MARKUP, \"html5lib\")\n",
      "\n",
      "  markup_type=markup_type))\n"
     ]
    }
   ],
   "source": [
    "clean_train_reviews = []\n",
    "for review in train[\"review\"]:\n",
    "    clean_train_reviews.append( review_transform(review,True ))"
   ]
  },
  {
   "cell_type": "code",
   "execution_count": 34,
   "metadata": {},
   "outputs": [
    {
     "name": "stdout",
     "output_type": "stream",
     "text": [
      "Review 0 of 25000\n"
     ]
    },
    {
     "name": "stderr",
     "output_type": "stream",
     "text": [
      "/home/nikhil-pc/environments/my_env/lib/python3.5/site-packages/ipykernel_launcher.py:11: DeprecationWarning: Call to deprecated `__getitem__` (Method will be removed in 4.0.0, use self.wv.__getitem__() instead).\n",
      "  # This is added back by InteractiveShellApp.init_path()\n"
     ]
    },
    {
     "name": "stdout",
     "output_type": "stream",
     "text": [
      "Review 1000 of 25000\n",
      "Review 2000 of 25000\n",
      "Review 3000 of 25000\n",
      "Review 4000 of 25000\n",
      "Review 5000 of 25000\n",
      "Review 6000 of 25000\n",
      "Review 7000 of 25000\n",
      "Review 8000 of 25000\n",
      "Review 9000 of 25000\n",
      "Review 10000 of 25000\n",
      "Review 11000 of 25000\n",
      "Review 12000 of 25000\n",
      "Review 13000 of 25000\n",
      "Review 14000 of 25000\n",
      "Review 15000 of 25000\n",
      "Review 16000 of 25000\n",
      "Review 17000 of 25000\n",
      "Review 18000 of 25000\n",
      "Review 19000 of 25000\n",
      "Review 20000 of 25000\n",
      "Review 21000 of 25000\n",
      "Review 22000 of 25000\n",
      "Review 23000 of 25000\n",
      "Review 24000 of 25000\n"
     ]
    },
    {
     "name": "stderr",
     "output_type": "stream",
     "text": [
      "/home/nikhil-pc/environments/my_env/lib/python3.5/site-packages/bs4/__init__.py:181: UserWarning: No parser was explicitly specified, so I'm using the best available HTML parser for this system (\"html5lib\"). This usually isn't a problem, but if you run this code on another system, or in a different virtual environment, it may use a different parser and behave differently.\n",
      "\n",
      "The code that caused this warning is on line 184 of the file /usr/lib/python3.5/runpy.py. To get rid of this warning, change code that looks like this:\n",
      "\n",
      " BeautifulSoup(YOUR_MARKUP})\n",
      "\n",
      "to this:\n",
      "\n",
      " BeautifulSoup(YOUR_MARKUP, \"html5lib\")\n",
      "\n",
      "  markup_type=markup_type))\n"
     ]
    }
   ],
   "source": [
    "trainDataVecs = getAvgFeatureVecs( clean_train_reviews, model, num_features )\n",
    "\n",
    "clean_test_reviews = []\n",
    "for review in test[\"review\"]:\n",
    "    clean_test_reviews.append(review_transform(review, True ))"
   ]
  },
  {
   "cell_type": "code",
   "execution_count": 35,
   "metadata": {},
   "outputs": [
    {
     "name": "stdout",
     "output_type": "stream",
     "text": [
      "Review 0 of 25000\n"
     ]
    },
    {
     "name": "stderr",
     "output_type": "stream",
     "text": [
      "/home/nikhil-pc/environments/my_env/lib/python3.5/site-packages/ipykernel_launcher.py:11: DeprecationWarning: Call to deprecated `__getitem__` (Method will be removed in 4.0.0, use self.wv.__getitem__() instead).\n",
      "  # This is added back by InteractiveShellApp.init_path()\n"
     ]
    },
    {
     "name": "stdout",
     "output_type": "stream",
     "text": [
      "Review 1000 of 25000\n",
      "Review 2000 of 25000\n",
      "Review 3000 of 25000\n",
      "Review 4000 of 25000\n",
      "Review 5000 of 25000\n",
      "Review 6000 of 25000\n",
      "Review 7000 of 25000\n",
      "Review 8000 of 25000\n",
      "Review 9000 of 25000\n",
      "Review 10000 of 25000\n",
      "Review 11000 of 25000\n",
      "Review 12000 of 25000\n",
      "Review 13000 of 25000\n",
      "Review 14000 of 25000\n",
      "Review 15000 of 25000\n",
      "Review 16000 of 25000\n",
      "Review 17000 of 25000\n",
      "Review 18000 of 25000\n",
      "Review 19000 of 25000\n",
      "Review 20000 of 25000\n",
      "Review 21000 of 25000\n",
      "Review 22000 of 25000\n",
      "Review 23000 of 25000\n",
      "Review 24000 of 25000\n"
     ]
    }
   ],
   "source": [
    "testDataVecs = getAvgFeatureVecs( clean_test_reviews, model, num_features )"
   ]
  },
  {
   "cell_type": "code",
   "execution_count": 39,
   "metadata": {},
   "outputs": [],
   "source": [
    "from xgboost import XGBClassifier\n",
    "xgb = XGBClassifier(n_estimators=1500,max_depth = 6, learning_rate=0.01, tree_method = 'gpu_hist')\n",
    "\n"
   ]
  },
  {
   "cell_type": "code",
   "execution_count": 40,
   "metadata": {},
   "outputs": [
    {
     "name": "stderr",
     "output_type": "stream",
     "text": [
      "/home/nikhil-pc/environments/my_env/lib/python3.5/site-packages/sklearn/preprocessing/label.py:151: DeprecationWarning: The truth value of an empty array is ambiguous. Returning False, but in future this will result in an error. Use `array.size > 0` to check that an array is not empty.\n",
      "  if diff:\n"
     ]
    }
   ],
   "source": [
    "xgb.fit(trainDataVecs,train[\"sentiment\"])\n",
    "result = xgb.predict(testDataVecs)"
   ]
  },
  {
   "cell_type": "code",
   "execution_count": 41,
   "metadata": {},
   "outputs": [],
   "source": [
    "output = pd.DataFrame( data={\"id\":test[\"id\"], \"sentiment\":result} )\n",
    "output.to_csv( \"../Submissions/Word2Vec_AverageVectors.csv\", index=False, quoting=3 )"
   ]
  },
  {
   "cell_type": "code",
   "execution_count": null,
   "metadata": {},
   "outputs": [],
   "source": []
  }
 ],
 "metadata": {
  "kernelspec": {
   "display_name": "Python 3",
   "language": "python",
   "name": "python3"
  },
  "language_info": {
   "codemirror_mode": {
    "name": "ipython",
    "version": 3
   },
   "file_extension": ".py",
   "mimetype": "text/x-python",
   "name": "python",
   "nbconvert_exporter": "python",
   "pygments_lexer": "ipython3",
   "version": "3.5.2"
  }
 },
 "nbformat": 4,
 "nbformat_minor": 2
}
