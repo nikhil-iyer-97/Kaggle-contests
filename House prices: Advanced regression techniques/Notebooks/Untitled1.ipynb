{
 "cells": [
  {
   "cell_type": "code",
   "execution_count": 33,
   "metadata": {},
   "outputs": [],
   "source": [
    "import pandas as pd\n",
    "import numpy as np\n",
    "\n",
    "input_data= pd.read_csv('train.csv')\n",
    "input_data.dropna(axis=0,subset=['SalePrice'],inplace = True)"
   ]
  },
  {
   "cell_type": "code",
   "execution_count": 34,
   "metadata": {},
   "outputs": [],
   "source": [
    "y_data = input_data.SalePrice\n",
    "x_data = input_data.drop(['Id','SalePrice'],axis=1)"
   ]
  },
  {
   "cell_type": "code",
   "execution_count": 35,
   "metadata": {},
   "outputs": [],
   "source": [
    "x_numeric = x_data.select_dtypes(exclude=['object'])\n",
    "x_text = x_data.select_dtypes(include = ['object'])"
   ]
  },
  {
   "cell_type": "code",
   "execution_count": 54,
   "metadata": {},
   "outputs": [
    {
     "data": {
      "text/plain": [
       "MSSubClass       False\n",
       "LotFrontage      False\n",
       "LotArea          False\n",
       "OverallQual      False\n",
       "OverallCond      False\n",
       "YearBuilt        False\n",
       "YearRemodAdd     False\n",
       "MasVnrArea       False\n",
       "BsmtFinSF1       False\n",
       "BsmtFinSF2       False\n",
       "BsmtUnfSF        False\n",
       "TotalBsmtSF      False\n",
       "1stFlrSF         False\n",
       "2ndFlrSF         False\n",
       "LowQualFinSF     False\n",
       "GrLivArea        False\n",
       "BsmtFullBath     False\n",
       "BsmtHalfBath     False\n",
       "FullBath         False\n",
       "HalfBath         False\n",
       "BedroomAbvGr     False\n",
       "KitchenAbvGr     False\n",
       "TotRmsAbvGrd     False\n",
       "Fireplaces       False\n",
       "GarageYrBlt      False\n",
       "GarageCars       False\n",
       "GarageArea       False\n",
       "WoodDeckSF       False\n",
       "OpenPorchSF      False\n",
       "EnclosedPorch    False\n",
       "3SsnPorch        False\n",
       "ScreenPorch      False\n",
       "PoolArea         False\n",
       "MiscVal          False\n",
       "MoSold           False\n",
       "YrSold           False\n",
       "dtype: bool"
      ]
     },
     "execution_count": 54,
     "metadata": {},
     "output_type": "execute_result"
    }
   ],
   "source": [
    "from sklearn.preprocessing import Imputer\n",
    "def impute_df(DF):\n",
    "    imputer = Imputer()\n",
    "    columns = DF.columns\n",
    "    index = DF.index\n",
    "    DF_imputed = pd.DataFrame(imputer.fit_transform(DF))\n",
    "    DF_imputed.columns = columns\n",
    "    DF_imputed.index = index\n",
    "    return DF_imputed\n",
    "\n",
    "x_imputed = impute_df(x_numeric)\n",
    "x_imputed.isnull().any()"
   ]
  },
  {
   "cell_type": "code",
   "execution_count": 37,
   "metadata": {},
   "outputs": [
    {
     "name": "stdout",
     "output_type": "stream",
     "text": [
      "[5, 2, 2, 4, 4, 2, 5, 3, 25, 9, 8, 5, 8, 6, 8, 15, 16, 4, 4, 5, 6, 4, 4, 4, 6, 6, 6, 5, 2, 5, 4, 7, 5, 6, 3, 5, 5, 3, 3, 4, 4, 9, 6]\n"
     ]
    }
   ],
   "source": [
    "cardinalities = [x_text[col].nunique() for col in x_text.columns]\n",
    "print(cardinalities)\n"
   ]
  },
  {
   "cell_type": "code",
   "execution_count": 38,
   "metadata": {},
   "outputs": [],
   "source": [
    "max_cardinality = 10\n",
    "high_card_colsls = [col for col in x_text.columns if x_text[col].nunique()> max_cardinality]"
   ]
  },
  {
   "cell_type": "code",
   "execution_count": 39,
   "metadata": {},
   "outputs": [
    {
     "name": "stdout",
     "output_type": "stream",
     "text": [
      "['Neighborhood', 'Exterior1st', 'Exterior2nd']\n"
     ]
    }
   ],
   "source": [
    "x_text = x_text.drop(high_card_cols,axis=1)\n",
    "print(high_card_cols)"
   ]
  },
  {
   "cell_type": "code",
   "execution_count": 76,
   "metadata": {},
   "outputs": [
    {
     "data": {
      "text/plain": [
       "(1460, 232)"
      ]
     },
     "execution_count": 76,
     "metadata": {},
     "output_type": "execute_result"
    }
   ],
   "source": [
    "x_text = pd.get_dummies(x_text)\n",
    "x_train = pd.concat([x_imputed,x_text],axis=1)\n",
    "x_train.shape"
   ]
  },
  {
   "cell_type": "code",
   "execution_count": 73,
   "metadata": {},
   "outputs": [],
   "source": [
    "test_data = pd.read_csv('test.csv')\n",
    "test_data.drop('Id',axis=1)\n",
    "test_numeric = test_data.select_dtypes(exclude=['object'])\n",
    "test_text = test_data.select_dtypes(include=['object'])\n"
   ]
  },
  {
   "cell_type": "code",
   "execution_count": 74,
   "metadata": {},
   "outputs": [],
   "source": [
    "test_imputed = impute_df(test_numeric)\n",
    "high_card_cols = [col for col in test_text.columns if test_text[col].nunique() > max_cardinality]\n",
    "test_text = test_text.drop(high_card_cols,axis=1)\n",
    "test_text = pd.get_dummies(test_text)\n",
    "test_data = pd.concat([test_imputed,test_text],axis=1)"
   ]
  },
  {
   "cell_type": "code",
   "execution_count": 75,
   "metadata": {},
   "outputs": [
    {
     "data": {
      "text/plain": [
       "(1459, 218)"
      ]
     },
     "execution_count": 75,
     "metadata": {},
     "output_type": "execute_result"
    }
   ],
   "source": [
    "test_data.shape"
   ]
  },
  {
   "cell_type": "code",
   "execution_count": 77,
   "metadata": {},
   "outputs": [
    {
     "data": {
      "text/plain": [
       "Id                       False\n",
       "MSSubClass               False\n",
       "LotFrontage              False\n",
       "LotArea                  False\n",
       "OverallQual              False\n",
       "OverallCond              False\n",
       "YearBuilt                False\n",
       "YearRemodAdd             False\n",
       "MasVnrArea               False\n",
       "BsmtFinSF1               False\n",
       "BsmtFinSF2               False\n",
       "BsmtUnfSF                False\n",
       "TotalBsmtSF              False\n",
       "1stFlrSF                 False\n",
       "2ndFlrSF                 False\n",
       "LowQualFinSF             False\n",
       "GrLivArea                False\n",
       "BsmtFullBath             False\n",
       "BsmtHalfBath             False\n",
       "FullBath                 False\n",
       "HalfBath                 False\n",
       "BedroomAbvGr             False\n",
       "KitchenAbvGr             False\n",
       "TotRmsAbvGrd             False\n",
       "Fireplaces               False\n",
       "GarageYrBlt              False\n",
       "GarageCars               False\n",
       "GarageArea               False\n",
       "WoodDeckSF               False\n",
       "OpenPorchSF              False\n",
       "                         ...  \n",
       "GarageCond_Gd            False\n",
       "GarageCond_Po            False\n",
       "GarageCond_TA            False\n",
       "PavedDrive_N             False\n",
       "PavedDrive_P             False\n",
       "PavedDrive_Y             False\n",
       "PoolQC_Ex                False\n",
       "PoolQC_Gd                False\n",
       "Fence_GdPrv              False\n",
       "Fence_GdWo               False\n",
       "Fence_MnPrv              False\n",
       "Fence_MnWw               False\n",
       "MiscFeature_Gar2         False\n",
       "MiscFeature_Othr         False\n",
       "MiscFeature_Shed         False\n",
       "SaleType_COD             False\n",
       "SaleType_CWD             False\n",
       "SaleType_Con             False\n",
       "SaleType_ConLD           False\n",
       "SaleType_ConLI           False\n",
       "SaleType_ConLw           False\n",
       "SaleType_New             False\n",
       "SaleType_Oth             False\n",
       "SaleType_WD              False\n",
       "SaleCondition_Abnorml    False\n",
       "SaleCondition_AdjLand    False\n",
       "SaleCondition_Alloca     False\n",
       "SaleCondition_Family     False\n",
       "SaleCondition_Normal     False\n",
       "SaleCondition_Partial    False\n",
       "Length: 218, dtype: bool"
      ]
     },
     "execution_count": 77,
     "metadata": {},
     "output_type": "execute_result"
    }
   ],
   "source": [
    "test_data.isnull().any()"
   ]
  },
  {
   "cell_type": "code",
   "execution_count": 81,
   "metadata": {},
   "outputs": [
    {
     "data": {
      "text/plain": [
       "(1460, 217)"
      ]
     },
     "execution_count": 81,
     "metadata": {},
     "output_type": "execute_result"
    }
   ],
   "source": [
    "from sklearn.linear_model import LinearRegression\n",
    "linreg = LinearRegression()\n",
    "final_train,final_test = x_train.align(test_data,join = 'inner',axis =1)\n",
    "final_train.shape"
   ]
  },
  {
   "cell_type": "code",
   "execution_count": 82,
   "metadata": {},
   "outputs": [
    {
     "data": {
      "text/plain": [
       "(1459, 217)"
      ]
     },
     "execution_count": 82,
     "metadata": {},
     "output_type": "execute_result"
    }
   ],
   "source": [
    "final_test.shape"
   ]
  },
  {
   "cell_type": "code",
   "execution_count": 84,
   "metadata": {},
   "outputs": [
    {
     "data": {
      "text/plain": [
       "0    208500\n",
       "1    181500\n",
       "2    223500\n",
       "3    140000\n",
       "4    250000\n",
       "Name: SalePrice, dtype: int64"
      ]
     },
     "execution_count": 84,
     "metadata": {},
     "output_type": "execute_result"
    }
   ],
   "source": [
    "y_data.head()"
   ]
  },
  {
   "cell_type": "code",
   "execution_count": 86,
   "metadata": {},
   "outputs": [
    {
     "data": {
      "text/plain": [
       "LinearRegression(copy_X=True, fit_intercept=True, n_jobs=1, normalize=False)"
      ]
     },
     "execution_count": 86,
     "metadata": {},
     "output_type": "execute_result"
    }
   ],
   "source": [
    "linreg.fit(final_train,y_data)\n"
   ]
  },
  {
   "cell_type": "code",
   "execution_count": 97,
   "metadata": {},
   "outputs": [
    {
     "name": "stdout",
     "output_type": "stream",
     "text": [
      "6499.88403477\n",
      "21459.2824165\n",
      "8156.12685435\n"
     ]
    }
   ],
   "source": [
    "y_pred = linreg.predict(final_test)\n",
    "for i in range(0,len(y_pred)):\n",
    "    if y_pred[i]<=0:\n",
    "        y_pred[i] = y_pred[i]*(-1)\n",
    "        print(y_pred[i])\n",
    "my_sol = pd.DataFrame({'Id':range(1461,2920),'SalePrice':y_pred})\n",
    "my_sol.to_csv('submission.csv',index=False)"
   ]
  },
  {
   "cell_type": "code",
   "execution_count": null,
   "metadata": {},
   "outputs": [],
   "source": []
  }
 ],
 "metadata": {
  "kernelspec": {
   "display_name": "Python 3",
   "language": "python",
   "name": "python3"
  },
  "language_info": {
   "codemirror_mode": {
    "name": "ipython",
    "version": 3
   },
   "file_extension": ".py",
   "mimetype": "text/x-python",
   "name": "python",
   "nbconvert_exporter": "python",
   "pygments_lexer": "ipython3",
   "version": "3.5.2"
  }
 },
 "nbformat": 4,
 "nbformat_minor": 2
}
